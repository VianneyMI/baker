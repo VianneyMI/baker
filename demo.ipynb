{
 "cells": [
  {
   "cell_type": "code",
   "execution_count": 6,
   "metadata": {},
   "outputs": [],
   "source": [
    "import os\n",
    "import json\n",
    "from pathlib import Path\n",
    "\n",
    "import pandas as pd\n",
    "from langchain.output_parsers import PydanticOutputParser\n",
    "from langchain_mistralai.chat_models import ChatMistralAI\n",
    "from dotenv import load_dotenv\n",
    "\n",
    "from core import run\n",
    "from prompt import DEFAULT_BASE_PROMPT, create_prompt\n",
    "from schemas import Recipe"
   ]
  },
  {
   "cell_type": "code",
   "execution_count": 2,
   "metadata": {},
   "outputs": [],
   "source": [
    "MISTRAL_API_KEY = os.getenv(\"MISTRAL_API_KEY\")"
   ]
  },
  {
   "cell_type": "code",
   "execution_count": 5,
   "metadata": {},
   "outputs": [
    {
     "data": {
      "text/html": [
       "<div>\n",
       "<style scoped>\n",
       "    .dataframe tbody tr th:only-of-type {\n",
       "        vertical-align: middle;\n",
       "    }\n",
       "\n",
       "    .dataframe tbody tr th {\n",
       "        vertical-align: top;\n",
       "    }\n",
       "\n",
       "    .dataframe thead th {\n",
       "        text-align: right;\n",
       "    }\n",
       "</style>\n",
       "<table border=\"1\" class=\"dataframe\">\n",
       "  <thead>\n",
       "    <tr style=\"text-align: right;\">\n",
       "      <th></th>\n",
       "      <th>title</th>\n",
       "      <th>date</th>\n",
       "      <th>tags</th>\n",
       "      <th>introduction</th>\n",
       "      <th>ingredients</th>\n",
       "      <th>direction</th>\n",
       "      <th>output</th>\n",
       "    </tr>\n",
       "  </thead>\n",
       "  <tbody>\n",
       "    <tr>\n",
       "      <th>0</th>\n",
       "      <td>Creamy Mashed Potatoes</td>\n",
       "      <td>2021-03-12</td>\n",
       "      <td>[potato, side, cheesefare]</td>\n",
       "      <td>![Creamy Mashed Potatoes](/pix/creamy-mashed-p...</td>\n",
       "      <td>The quantities here are for about four adult p...</td>\n",
       "      <td>1. Peel and cut the potatoes into medium sized...</td>\n",
       "      <td>{'title': 'Creamy Mashed Potatoes', 'ingredien...</td>\n",
       "    </tr>\n",
       "    <tr>\n",
       "      <th>1</th>\n",
       "      <td>Red Sauce (Ragu all'Italiana)</td>\n",
       "      <td>2021-03-16</td>\n",
       "      <td>[italian, sauce]</td>\n",
       "      <td>My great-grandma's red sauce. All purpose: goo...</td>\n",
       "      <td>- 1/3 lb salt pork - 2 lb chuck roast - 3 Clov...</td>\n",
       "      <td>1. Mince the garlic, peel the carrot, peel and...</td>\n",
       "      <td>{'title': 'Red Sauce (Ragu all'Italiana)', 'in...</td>\n",
       "    </tr>\n",
       "    <tr>\n",
       "      <th>2</th>\n",
       "      <td>Turmeric Flatbread</td>\n",
       "      <td>2022-08-09</td>\n",
       "      <td>[bread, turkish]</td>\n",
       "      <td>A great companion to Turkish Red Lentil Soup. ...</td>\n",
       "      <td>- 1 cup Wheat Flour (white or whole) - 1/2 Tbs...</td>\n",
       "      <td>1. Combine flour, turmeric, salt and baking po...</td>\n",
       "      <td>{'title': 'Turmeric Flatbread', 'ingredients':...</td>\n",
       "    </tr>\n",
       "    <tr>\n",
       "      <th>3</th>\n",
       "      <td>Zurich-Style Meat Saute</td>\n",
       "      <td>2023-01-06</td>\n",
       "      <td>[beef, cream, swiss, quick]</td>\n",
       "      <td>Originally called \"Züri Gschnätzlets\" (Zurich ...</td>\n",
       "      <td>- 600g\\tBeef, finely sliced - 250g\\tMushrooms,...</td>\n",
       "      <td>1. Fry the meat in butter at high heat until i...</td>\n",
       "      <td>{'title': 'Zurich-Style Meat Saute', 'ingredie...</td>\n",
       "    </tr>\n",
       "    <tr>\n",
       "      <th>4</th>\n",
       "      <td>Tuscan Style Pork Roast</td>\n",
       "      <td>2021-03-10</td>\n",
       "      <td>[italian, pork, roast]</td>\n",
       "      <td>![tuscan-style-pork-roast](/pix/tuscan-style-p...</td>\n",
       "      <td>- 1 pork Roast - 2-3 Tbsp fresh rosemary - 8 c...</td>\n",
       "      <td>1.\\tPreheat oven to 275°F (135°C) 2.\\tButterfl...</td>\n",
       "      <td>{'title': 'Tuscan Style Pork Roast', 'ingredie...</td>\n",
       "    </tr>\n",
       "  </tbody>\n",
       "</table>\n",
       "</div>"
      ],
      "text/plain": [
       "                           title       date                         tags  \\\n",
       "0         Creamy Mashed Potatoes 2021-03-12   [potato, side, cheesefare]   \n",
       "1  Red Sauce (Ragu all'Italiana) 2021-03-16             [italian, sauce]   \n",
       "2             Turmeric Flatbread 2022-08-09             [bread, turkish]   \n",
       "3        Zurich-Style Meat Saute 2023-01-06  [beef, cream, swiss, quick]   \n",
       "4        Tuscan Style Pork Roast 2021-03-10       [italian, pork, roast]   \n",
       "\n",
       "                                        introduction  \\\n",
       "0  ![Creamy Mashed Potatoes](/pix/creamy-mashed-p...   \n",
       "1  My great-grandma's red sauce. All purpose: goo...   \n",
       "2  A great companion to Turkish Red Lentil Soup. ...   \n",
       "3  Originally called \"Züri Gschnätzlets\" (Zurich ...   \n",
       "4  ![tuscan-style-pork-roast](/pix/tuscan-style-p...   \n",
       "\n",
       "                                         ingredients  \\\n",
       "0  The quantities here are for about four adult p...   \n",
       "1  - 1/3 lb salt pork - 2 lb chuck roast - 3 Clov...   \n",
       "2  - 1 cup Wheat Flour (white or whole) - 1/2 Tbs...   \n",
       "3  - 600g\\tBeef, finely sliced - 250g\\tMushrooms,...   \n",
       "4  - 1 pork Roast - 2-3 Tbsp fresh rosemary - 8 c...   \n",
       "\n",
       "                                           direction  \\\n",
       "0  1. Peel and cut the potatoes into medium sized...   \n",
       "1  1. Mince the garlic, peel the carrot, peel and...   \n",
       "2  1. Combine flour, turmeric, salt and baking po...   \n",
       "3  1. Fry the meat in butter at high heat until i...   \n",
       "4  1.\\tPreheat oven to 275°F (135°C) 2.\\tButterfl...   \n",
       "\n",
       "                                              output  \n",
       "0  {'title': 'Creamy Mashed Potatoes', 'ingredien...  \n",
       "1  {'title': 'Red Sauce (Ragu all'Italiana)', 'in...  \n",
       "2  {'title': 'Turmeric Flatbread', 'ingredients':...  \n",
       "3  {'title': 'Zurich-Style Meat Saute', 'ingredie...  \n",
       "4  {'title': 'Tuscan Style Pork Roast', 'ingredie...  "
      ]
     },
     "execution_count": 5,
     "metadata": {},
     "output_type": "execute_result"
    }
   ],
   "source": [
    "df = pd.read_json(\"data/input/recipes_v1.json\")\n",
    "df.head()"
   ]
  },
  {
   "cell_type": "code",
   "execution_count": 7,
   "metadata": {},
   "outputs": [],
   "source": [
    "llm = ChatMistralAI(api_key=MISTRAL_API_KEY, model_name=\"open-mixtral-8x7b\")\n",
    "parser = PydanticOutputParser(pydantic_object=Recipe)"
   ]
  },
  {
   "cell_type": "code",
   "execution_count": 8,
   "metadata": {},
   "outputs": [
    {
     "data": {
      "text/plain": [
       "[HumanMessage(content='\\nWhat are the ingredients and their associated quantities as well as the steps to make the recipe described by the following The quantities here are for about four adult portions. If you are planning on eating this as a side dish, it might be more like 6-8 portions. * 1kg potatoes * 200ml milk* * 200ml mayonnaise* * ~100g cheese * Garlic powder * 12-16 strips of bacon * Butter * 3-4 green onions * Black pepper * Salt  *You can play with the proportions depending on how creamy or dry you want the mashed potatoes to be. and 1. Peel and cut the potatoes into medium sized pieces. 2. Put the potatoes in a pot with some water so that it covers the potatoes and   boil them for about 20-30 minutes, or until the potatoes are soft. 3. About ten minutes before removing the potatoes from the boiling water, cut   the bacon into little pieces and fry it. 4. Warm up the milk and mayonnaise. 5. Shred the cheese. 6. When the potatoes are done, remove all water from the pot, add the warm milk   and mayonnaise mix, add some butter, and mash with a potato masher or a   blender. 7. Add some salt, black pepper and garlic powder to taste and continue mashing   the mix. 8. Once the mix is somewhat homogeneous and the potatoes are properly mashed,   add the shredded cheese and fried bacon and mix a little. 9. Serve and top with chopped green onions. provided as raw text ?\\n\\nIn particular, please provide the following information:\\n- The name of the recipe\\n- The serving size\\n- The ingredients and their associated quantities\\n- The steps to make the recipe\\n- Any additional comments\\nas described in The output should be formatted as a JSON instance that conforms to the JSON schema below.\\n\\nAs an example, for the schema {\"properties\": {\"foo\": {\"title\": \"Foo\", \"description\": \"a list of strings\", \"type\": \"array\", \"items\": {\"type\": \"string\"}}}, \"required\": [\"foo\"]}\\nthe object {\"foo\": [\"bar\", \"baz\"]} is a well-formatted instance of the schema. The object {\"properties\": {\"foo\": [\"bar\", \"baz\"]}} is not well-formatted.\\n\\nHere is the output schema:\\n```\\n{\"$defs\": {\"Ingredient\": {\"description\": \"Ingredient schema\", \"properties\": {\"id\": {\"description\": \"Randomly generated unique identifier of the ingredient\", \"examples\": [1, 2, 3, 4, 5, 6], \"title\": \"Id\", \"type\": \"integer\"}, \"name\": {\"description\": \"The name of the ingredient\", \"examples\": [\"flour\", \"sugar\", \"salt\"], \"title\": \"Name\", \"type\": \"string\"}, \"quantity\": {\"anyOf\": [{\"type\": \"number\"}, {\"type\": \"null\"}], \"default\": null, \"description\": \"The quantity of the ingredient\", \"examples\": [200, 4, 0.5, 1, 1, 1], \"title\": \"Quantity\"}, \"unit\": {\"anyOf\": [{\"type\": \"string\"}, {\"type\": \"null\"}], \"default\": null, \"description\": \"The unit in which the quantity is specified\", \"examples\": [\"ml\", \"unit\", \"l\", \"unit\", \"teaspoon\", \"tablespoon\"], \"title\": \"Unit\"}}, \"required\": [\"id\", \"name\"], \"title\": \"Ingredient\", \"type\": \"object\"}, \"Step\": {\"properties\": {\"number\": {\"anyOf\": [{\"type\": \"integer\"}, {\"type\": \"null\"}], \"default\": null, \"description\": \"The position of the step in the recipe\", \"examples\": [1, 2, 3, 4, 5, 6], \"title\": \"Number\"}, \"description\": {\"description\": \"The action that needs to be performed during that step\", \"examples\": [\"Preheat the oven to 180\\\\u00b0C\", \"Mix the flour and sugar in a bowl\", \"Add the eggs and mix well\", \"Pour the batter into a greased cake tin\", \"Bake for 30 minutes\", \"Let the cake cool down before serving\"], \"title\": \"Description\", \"type\": \"string\"}, \"preparation_time\": {\"anyOf\": [{\"type\": \"integer\"}, {\"type\": \"null\"}], \"default\": null, \"description\": \"The preparation time mentioned in the step description if any.\", \"examples\": [5, 10, 15, 20, 25, 30], \"title\": \"Preparation Time\"}, \"cooking_time\": {\"anyOf\": [{\"type\": \"integer\"}, {\"type\": \"null\"}], \"default\": null, \"description\": \"The cooking time mentioned in the step description if any.\", \"examples\": [5, 10, 15, 20, 25, 30], \"title\": \"Cooking Time\"}, \"used_ingredients\": {\"default\": [], \"description\": \"The list of ingredient ids used in the step\", \"examples\": [[1, 2], [3, 4], [5, 6], [7, 8], [9, 10], [11, 12]], \"items\": {\"type\": \"integer\"}, \"title\": \"Used Ingredients\", \"type\": \"array\"}}, \"required\": [\"description\"], \"title\": \"Step\", \"type\": \"object\"}}, \"description\": \"Recipe schema\", \"properties\": {\"name\": {\"description\": \"The name of the recipe\", \"examples\": [\"Chocolate Cake\", \"Apple Pie\", \"Pasta Carbonara\", \"Pumpkin Soup\", \"Chili con Carne\"], \"title\": \"Name\", \"type\": \"string\"}, \"serving_size\": {\"anyOf\": [{\"type\": \"integer\"}, {\"type\": \"null\"}], \"default\": null, \"description\": \"The number of servings the recipe makes\", \"examples\": [1, 2, 4, 6, 8, 10], \"title\": \"Serving Size\"}, \"ingredients\": {\"default\": [], \"items\": {\"$ref\": \"#/$defs/Ingredient\"}, \"title\": \"Ingredients\", \"type\": \"array\"}, \"steps\": {\"default\": [], \"items\": {\"$ref\": \"#/$defs/Step\"}, \"title\": \"Steps\", \"type\": \"array\"}, \"total_preparation_time\": {\"anyOf\": [{\"type\": \"integer\"}, {\"type\": \"null\"}], \"default\": null, \"description\": \"The total preparation time for the recipe\", \"examples\": [5, 10, 15, 20, 25, 30], \"title\": \"Total Preparation Time\"}, \"total_cooking_time\": {\"anyOf\": [{\"type\": \"integer\"}, {\"type\": \"null\"}], \"default\": null, \"description\": \"The total cooking time for the recipe\", \"examples\": [5, 10, 15, 20, 25, 30], \"title\": \"Total Cooking Time\"}, \"comments\": {\"default\": [], \"items\": {\"type\": \"string\"}, \"title\": \"Comments\", \"type\": \"array\"}}, \"required\": [\"name\"]}\\n```\\n\\n')]"
      ]
     },
     "execution_count": 8,
     "metadata": {},
     "output_type": "execute_result"
    }
   ],
   "source": [
    "prompt = create_prompt(DEFAULT_BASE_PROMPT, parser, df[\"ingredients\"][0], df[\"direction\"][0])\n",
    "prompt"
   ]
  },
  {
   "cell_type": "code",
   "execution_count": 9,
   "metadata": {},
   "outputs": [
    {
     "data": {
      "text/plain": [
       "Recipe(name='Bacon Cheese Mashed Potatoes', serving_size=4, ingredients=[Ingredient(id=1, name='potatoes', quantity=1000.0, unit='grams'), Ingredient(id=2, name='milk', quantity=200.0, unit='ml'), Ingredient(id=3, name='mayonnaise', quantity=200.0, unit='ml'), Ingredient(id=4, name='cheese', quantity=100.0, unit='grams'), Ingredient(id=5, name='garlic powder', quantity=None, unit=None), Ingredient(id=6, name='bacon', quantity=None, unit=None), Ingredient(id=7, name='butter', quantity=None, unit=None), Ingredient(id=8, name='green onions', quantity=None, unit=None), Ingredient(id=9, name='black pepper', quantity=None, unit=None), Ingredient(id=10, name='salt', quantity=None, unit=None)], steps=[Step(number=1, description='Peel and cut the potatoes into medium sized pieces.', preparation_time=None, cooking_time=None, used_ingredients=[1]), Step(number=2, description='Put the potatoes in a pot with some water so that it covers the potatoes and boil them for about 20-30 minutes, or until the potatoes are soft.', preparation_time=None, cooking_time=None, used_ingredients=[1]), Step(number=3, description='About ten minutes before removing the potatoes from the boiling water, cut the bacon into little pieces and fry it.', preparation_time=None, cooking_time=None, used_ingredients=[6]), Step(number=4, description='Warm up the milk and mayonnaise.', preparation_time=None, cooking_time=None, used_ingredients=[2, 3]), Step(number=5, description='Shred the cheese.', preparation_time=None, cooking_time=None, used_ingredients=[4]), Step(number=6, description='When the potatoes are done, remove all water from the pot, add the warm milk and mayonnaise mix, add some butter, and mash with a potato masher or a blender.', preparation_time=None, cooking_time=None, used_ingredients=[1, 2, 3, 7]), Step(number=7, description='Add some salt, black pepper and garlic powder to taste and continue mashing the mix.', preparation_time=None, cooking_time=None, used_ingredients=[5, 9, 10]), Step(number=8, description='Once the mix is somewhat homogeneous and the potatoes are properly mashed, add the shredded cheese and fried bacon and mix a little.', preparation_time=None, cooking_time=None, used_ingredients=[4, 6]), Step(number=9, description='Serve and top with chopped green onions.', preparation_time=None, cooking_time=None, used_ingredients=[8])], total_preparation_time=None, total_cooking_time=None, comments=[])"
      ]
     },
     "execution_count": 9,
     "metadata": {},
     "output_type": "execute_result"
    }
   ],
   "source": [
    "example = await run(llm, prompt, parser)\n",
    "example"
   ]
  }
 ],
 "metadata": {
  "kernelspec": {
   "display_name": ".venv",
   "language": "python",
   "name": "python3"
  },
  "language_info": {
   "codemirror_mode": {
    "name": "ipython",
    "version": 3
   },
   "file_extension": ".py",
   "mimetype": "text/x-python",
   "name": "python",
   "nbconvert_exporter": "python",
   "pygments_lexer": "ipython3",
   "version": "3.11.7"
  }
 },
 "nbformat": 4,
 "nbformat_minor": 2
}
