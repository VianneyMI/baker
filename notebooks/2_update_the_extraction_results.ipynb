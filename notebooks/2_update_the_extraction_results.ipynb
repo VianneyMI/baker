{
 "cells": [
  {
   "cell_type": "markdown",
   "metadata": {},
   "source": [
    "# Update the extraction results"
   ]
  },
  {
   "cell_type": "code",
   "execution_count": 1,
   "metadata": {},
   "outputs": [],
   "source": [
    "import os\n",
    "import datetime\n",
    "import json\n",
    "from pathlib import Path\n",
    "\n",
    "import numpy as np\n",
    "import pandas as pd\n",
    "from pydantic import BaseModel, ValidationError\n",
    "from amplifai import Amplifier\n",
    "from langchain_openai import ChatOpenAI\n",
    "from langchain_mistralai import ChatMistralAI\n",
    "from dotenv import load_dotenv\n",
    "from baker.schemas.ingredient import Ingredient\n",
    "from baker.schemas.recipe import Recipe, ParsedRecipe\n",
    "from baker.schemas.step import Step"
   ]
  },
  {
   "cell_type": "markdown",
   "metadata": {},
   "source": [
    "## Initialization"
   ]
  },
  {
   "cell_type": "markdown",
   "metadata": {},
   "source": [
    "### Config"
   ]
  },
  {
   "cell_type": "code",
   "execution_count": 2,
   "metadata": {},
   "outputs": [
    {
     "data": {
      "text/plain": [
       "True"
      ]
     },
     "execution_count": 2,
     "metadata": {},
     "output_type": "execute_result"
    }
   ],
   "source": [
    "# Loading necessary environment variables\n",
    "load_dotenv()"
   ]
  },
  {
   "cell_type": "code",
   "execution_count": 3,
   "metadata": {},
   "outputs": [],
   "source": [
    "# Preparing useful path\n",
    "cwd = os.getcwd()\n",
    "path_to_data = Path(cwd).parent / \"data\"\n",
    "path_to_input = path_to_data / \"input\"\n",
    "path_to_output = path_to_data / \"output\"\n",
    "path_to_2_update_the_extraction_results = (\n",
    "    path_to_output / \"2_update_the_extraction_results\"\n",
    ")\n",
    "path_to_recipes_v1 = path_to_input / \"recipes_v1.json\""
   ]
  },
  {
   "cell_type": "code",
   "execution_count": 4,
   "metadata": {},
   "outputs": [],
   "source": [
    "OPENAI_API_KEY = os.getenv(\"OPENAI_API_KEY\")\n",
    "MISTRALAI_API_KEY = os.getenv(\"MISTRAL_API_KEY\")"
   ]
  },
  {
   "cell_type": "markdown",
   "metadata": {},
   "source": [
    "### Data Load"
   ]
  },
  {
   "cell_type": "code",
   "execution_count": 5,
   "metadata": {},
   "outputs": [
    {
     "data": {
      "text/html": [
       "<div>\n",
       "<style scoped>\n",
       "    .dataframe tbody tr th:only-of-type {\n",
       "        vertical-align: middle;\n",
       "    }\n",
       "\n",
       "    .dataframe tbody tr th {\n",
       "        vertical-align: top;\n",
       "    }\n",
       "\n",
       "    .dataframe thead th {\n",
       "        text-align: right;\n",
       "    }\n",
       "</style>\n",
       "<table border=\"1\" class=\"dataframe\">\n",
       "  <thead>\n",
       "    <tr style=\"text-align: right;\">\n",
       "      <th></th>\n",
       "      <th>title</th>\n",
       "      <th>date</th>\n",
       "      <th>tags</th>\n",
       "      <th>introduction</th>\n",
       "      <th>ingredients</th>\n",
       "      <th>direction</th>\n",
       "      <th>output</th>\n",
       "    </tr>\n",
       "  </thead>\n",
       "  <tbody>\n",
       "    <tr>\n",
       "      <th>0</th>\n",
       "      <td>Creamy Mashed Potatoes</td>\n",
       "      <td>2021-03-12</td>\n",
       "      <td>[potato, side, cheesefare]</td>\n",
       "      <td>![Creamy Mashed Potatoes](/pix/creamy-mashed-p...</td>\n",
       "      <td>The quantities here are for about four adult p...</td>\n",
       "      <td>1. Peel and cut the potatoes into medium sized...</td>\n",
       "      <td>{'title': 'Creamy Mashed Potatoes', 'ingredien...</td>\n",
       "    </tr>\n",
       "    <tr>\n",
       "      <th>1</th>\n",
       "      <td>Red Sauce (Ragu all'Italiana)</td>\n",
       "      <td>2021-03-16</td>\n",
       "      <td>[italian, sauce]</td>\n",
       "      <td>My great-grandma's red sauce. All purpose: goo...</td>\n",
       "      <td>- 1/3 lb salt pork - 2 lb chuck roast - 3 Clov...</td>\n",
       "      <td>1. Mince the garlic, peel the carrot, peel and...</td>\n",
       "      <td>{'title': 'Red Sauce (Ragu all'Italiana)', 'in...</td>\n",
       "    </tr>\n",
       "    <tr>\n",
       "      <th>2</th>\n",
       "      <td>Turmeric Flatbread</td>\n",
       "      <td>2022-08-09</td>\n",
       "      <td>[bread, turkish]</td>\n",
       "      <td>A great companion to Turkish Red Lentil Soup. ...</td>\n",
       "      <td>- 1 cup Wheat Flour (white or whole) - 1/2 Tbs...</td>\n",
       "      <td>1. Combine flour, turmeric, salt and baking po...</td>\n",
       "      <td>{'title': 'Turmeric Flatbread', 'ingredients':...</td>\n",
       "    </tr>\n",
       "    <tr>\n",
       "      <th>3</th>\n",
       "      <td>Zurich-Style Meat Saute</td>\n",
       "      <td>2023-01-06</td>\n",
       "      <td>[beef, cream, swiss, quick]</td>\n",
       "      <td>Originally called \"Züri Gschnätzlets\" (Zurich ...</td>\n",
       "      <td>- 600g\\tBeef, finely sliced - 250g\\tMushrooms,...</td>\n",
       "      <td>1. Fry the meat in butter at high heat until i...</td>\n",
       "      <td>{'title': 'Zurich-Style Meat Saute', 'ingredie...</td>\n",
       "    </tr>\n",
       "    <tr>\n",
       "      <th>4</th>\n",
       "      <td>Tuscan Style Pork Roast</td>\n",
       "      <td>2021-03-10</td>\n",
       "      <td>[italian, pork, roast]</td>\n",
       "      <td>![tuscan-style-pork-roast](/pix/tuscan-style-p...</td>\n",
       "      <td>- 1 pork Roast - 2-3 Tbsp fresh rosemary - 8 c...</td>\n",
       "      <td>1.\\tPreheat oven to 275°F (135°C) 2.\\tButterfl...</td>\n",
       "      <td>{'title': 'Tuscan Style Pork Roast', 'ingredie...</td>\n",
       "    </tr>\n",
       "  </tbody>\n",
       "</table>\n",
       "</div>"
      ],
      "text/plain": [
       "                           title       date                         tags  \\\n",
       "0         Creamy Mashed Potatoes 2021-03-12   [potato, side, cheesefare]   \n",
       "1  Red Sauce (Ragu all'Italiana) 2021-03-16             [italian, sauce]   \n",
       "2             Turmeric Flatbread 2022-08-09             [bread, turkish]   \n",
       "3        Zurich-Style Meat Saute 2023-01-06  [beef, cream, swiss, quick]   \n",
       "4        Tuscan Style Pork Roast 2021-03-10       [italian, pork, roast]   \n",
       "\n",
       "                                        introduction  \\\n",
       "0  ![Creamy Mashed Potatoes](/pix/creamy-mashed-p...   \n",
       "1  My great-grandma's red sauce. All purpose: goo...   \n",
       "2  A great companion to Turkish Red Lentil Soup. ...   \n",
       "3  Originally called \"Züri Gschnätzlets\" (Zurich ...   \n",
       "4  ![tuscan-style-pork-roast](/pix/tuscan-style-p...   \n",
       "\n",
       "                                         ingredients  \\\n",
       "0  The quantities here are for about four adult p...   \n",
       "1  - 1/3 lb salt pork - 2 lb chuck roast - 3 Clov...   \n",
       "2  - 1 cup Wheat Flour (white or whole) - 1/2 Tbs...   \n",
       "3  - 600g\\tBeef, finely sliced - 250g\\tMushrooms,...   \n",
       "4  - 1 pork Roast - 2-3 Tbsp fresh rosemary - 8 c...   \n",
       "\n",
       "                                           direction  \\\n",
       "0  1. Peel and cut the potatoes into medium sized...   \n",
       "1  1. Mince the garlic, peel the carrot, peel and...   \n",
       "2  1. Combine flour, turmeric, salt and baking po...   \n",
       "3  1. Fry the meat in butter at high heat until i...   \n",
       "4  1.\\tPreheat oven to 275°F (135°C) 2.\\tButterfl...   \n",
       "\n",
       "                                              output  \n",
       "0  {'title': 'Creamy Mashed Potatoes', 'ingredien...  \n",
       "1  {'title': 'Red Sauce (Ragu all'Italiana)', 'in...  \n",
       "2  {'title': 'Turmeric Flatbread', 'ingredients':...  \n",
       "3  {'title': 'Zurich-Style Meat Saute', 'ingredie...  \n",
       "4  {'title': 'Tuscan Style Pork Roast', 'ingredie...  "
      ]
     },
     "execution_count": 5,
     "metadata": {},
     "output_type": "execute_result"
    }
   ],
   "source": [
    "df_recipes_v1 = pd.read_json(path_to_recipes_v1)\n",
    "df_recipes_v1.head()"
   ]
  },
  {
   "cell_type": "markdown",
   "metadata": {},
   "source": [
    "## More preparation work"
   ]
  },
  {
   "cell_type": "markdown",
   "metadata": {},
   "source": [
    "### Preparing the data"
   ]
  },
  {
   "cell_type": "code",
   "execution_count": 6,
   "metadata": {},
   "outputs": [],
   "source": [
    "recipes_v1 = df_recipes_v1.to_dict(orient=\"records\")\n",
    "random_recipes = df_recipes_v1.sample(10).to_dict(orient=\"records\")"
   ]
  },
  {
   "cell_type": "markdown",
   "metadata": {},
   "source": [
    "### Generating the extraction pipeline"
   ]
  },
  {
   "cell_type": "code",
   "execution_count": 7,
   "metadata": {},
   "outputs": [],
   "source": [
    "openai_llm = ChatOpenAI(api_key=OPENAI_API_KEY, temperature=0.7, model=\"gpt-4o\")\n",
    "mistral_llm = ChatMistralAI(\n",
    "    api_key=MISTRALAI_API_KEY, temperature=0.7, model=\"mistral-large-latest\"\n",
    ")"
   ]
  },
  {
   "cell_type": "code",
   "execution_count": 8,
   "metadata": {},
   "outputs": [],
   "source": [
    "human_prompt = \"\"\"Given the following recipe introduction, ingredients and steps. Please structure the recipe as a NoSQL document.\n",
    "\n",
    "Introduction:\n",
    "{introduction}\n",
    "\n",
    "Ingredients:\n",
    "{ingredients}\n",
    "\n",
    "Steps:\n",
    "{steps}\n",
    "\n",
    "\"\"\""
   ]
  },
  {
   "cell_type": "code",
   "execution_count": 9,
   "metadata": {},
   "outputs": [],
   "source": [
    "openai_amplifier = Amplifier[ChatOpenAI, ParsedRecipe](\n",
    "    llm=openai_llm,\n",
    "    human_prompt=human_prompt,\n",
    ")\n",
    "\n",
    "mistral_amplifier = Amplifier[ChatMistralAI, ParsedRecipe](\n",
    "    llm=mistral_llm,\n",
    "    human_prompt=human_prompt,\n",
    ")"
   ]
  },
  {
   "cell_type": "markdown",
   "metadata": {},
   "source": [
    "## Testing"
   ]
  },
  {
   "cell_type": "markdown",
   "metadata": {},
   "source": [
    "### On first row"
   ]
  },
  {
   "cell_type": "code",
   "execution_count": null,
   "metadata": {},
   "outputs": [],
   "source": [
    "first_recipe = recipes_v1[0]"
   ]
  },
  {
   "cell_type": "code",
   "execution_count": null,
   "metadata": {},
   "outputs": [],
   "source": [
    "parsed_recipe = openai_amplifier.denoise(\n",
    "    introduction=first_recipe[\"introduction\"],\n",
    "    ingredients=first_recipe[\"ingredients\"],\n",
    "    steps=first_recipe[\"direction\"],\n",
    ")\n",
    "parsed_recipe"
   ]
  },
  {
   "cell_type": "code",
   "execution_count": null,
   "metadata": {},
   "outputs": [],
   "source": [
    "parsed_recipe.model_dump()"
   ]
  },
  {
   "cell_type": "code",
   "execution_count": null,
   "metadata": {},
   "outputs": [],
   "source": [
    "mistral_parsed_recipe = mistral_amplifier.denoise(\n",
    "    introduction=first_recipe[\"introduction\"],\n",
    "    ingredients=first_recipe[\"ingredients\"],\n",
    "    steps=first_recipe[\"direction\"],\n",
    ")\n",
    "mistral_parsed_recipe.model_dump()"
   ]
  },
  {
   "cell_type": "markdown",
   "metadata": {},
   "source": [
    "### On random sample"
   ]
  },
  {
   "cell_type": "code",
   "execution_count": null,
   "metadata": {},
   "outputs": [],
   "source": [
    "parsed_recipes = []\n",
    "for recipe in random_recipes:\n",
    "    parsed_recipe = openai_amplifier.denoise(\n",
    "        introduction=recipe[\"introduction\"],\n",
    "        ingredients=recipe[\"ingredients\"],\n",
    "        steps=recipe[\"direction\"],\n",
    "    )\n",
    "\n",
    "    new_recipe = Recipe(\n",
    "        title=recipe[\"title\"],\n",
    "        date=recipe[\"date\"],\n",
    "        tags=recipe[\"tags\"],\n",
    "        introduction=recipe[\"introduction\"],\n",
    "        ingredients_source_text=recipe[\"ingredients\"],\n",
    "        directions_source_text=recipe[\"direction\"],\n",
    "        **parsed_recipe.model_dump(),\n",
    "    )\n",
    "    parsed_recipes.append(new_recipe)"
   ]
  },
  {
   "cell_type": "code",
   "execution_count": null,
   "metadata": {},
   "outputs": [],
   "source": [
    "parsed_recipes"
   ]
  },
  {
   "cell_type": "code",
   "execution_count": null,
   "metadata": {},
   "outputs": [],
   "source": [
    "parsed_recipes_json = [recipe.model_dump(mode=\"json\") for recipe in parsed_recipes]\n",
    "parsed_recipes_json"
   ]
  },
  {
   "cell_type": "code",
   "execution_count": null,
   "metadata": {},
   "outputs": [],
   "source": [
    "with open(\n",
    "    path_to_2_update_the_extraction_results / \"10_random_recipes_parsed.json\", \"w\"\n",
    ") as f:\n",
    "    json.dump(parsed_recipes_json, f, indent=4)"
   ]
  },
  {
   "cell_type": "code",
   "execution_count": null,
   "metadata": {},
   "outputs": [],
   "source": [
    "parsed_recipes[3].model_dump()"
   ]
  },
  {
   "cell_type": "markdown",
   "metadata": {},
   "source": [
    "## Main Run"
   ]
  },
  {
   "cell_type": "code",
   "execution_count": 10,
   "metadata": {},
   "outputs": [
    {
     "data": {
      "text/plain": [
       "True"
      ]
     },
     "execution_count": 10,
     "metadata": {},
     "output_type": "execute_result"
    }
   ],
   "source": [
    "path_to_main_run = path_to_2_update_the_extraction_results / \"main_run\"\n",
    "path_to_main_run.exists()"
   ]
  },
  {
   "cell_type": "code",
   "execution_count": 11,
   "metadata": {},
   "outputs": [
    {
     "name": "stdout",
     "output_type": "stream",
     "text": [
      "Recipe 0 already processed\n",
      "Recipe 1 already processed\n",
      "Recipe 2 already processed\n",
      "Recipe 3 already processed\n",
      "Recipe 4 already processed\n",
      "Recipe 5 already processed\n",
      "Recipe 6 already processed\n",
      "Recipe 7 already processed\n",
      "Recipe 8 already processed\n",
      "Recipe 9 already processed\n",
      "Recipe 10 already processed\n",
      "Recipe 11 already processed\n",
      "Recipe 12 already processed\n",
      "Recipe 13 already processed\n",
      "Recipe 15 already processed\n",
      "Recipe 16 already processed\n"
     ]
    }
   ],
   "source": [
    "parsed_recipes = []\n",
    "for i, recipe in enumerate(recipes_v1):\n",
    "    path_to_recipe = path_to_main_run / f\"{i}.json\"\n",
    "    if not path_to_recipe.exists():\n",
    "        try:\n",
    "            parsed_recipe = openai_amplifier.denoise(\n",
    "                introduction=recipe[\"introduction\"],\n",
    "                ingredients=recipe[\"ingredients\"],\n",
    "                steps=recipe[\"direction\"],\n",
    "            )\n",
    "\n",
    "            new_recipe = Recipe(\n",
    "                title=recipe[\"title\"],\n",
    "                date=recipe[\"date\"],\n",
    "                tags=recipe[\"tags\"],\n",
    "                introduction=recipe[\"introduction\"],\n",
    "                ingredients_source_text=recipe[\"ingredients\"],\n",
    "                directions_source_text=recipe[\"direction\"],\n",
    "                **parsed_recipe.model_dump(),\n",
    "            )\n",
    "            new_recipe_json = new_recipe.model_dump(mode=\"json\")\n",
    "\n",
    "            parsed_recipes.append(new_recipe)\n",
    "\n",
    "            with open(\n",
    "                path_to_2_update_the_extraction_results / path_to_recipe, \"w\"\n",
    "            ) as f:\n",
    "                json.dump(new_recipe_json, f, indent=4)\n",
    "\n",
    "        except Exception as err:\n",
    "            print(err)\n",
    "\n",
    "    else:\n",
    "        print(f\"Recipe {i} already processed\")"
   ]
  }
 ],
 "metadata": {
  "kernelspec": {
   "display_name": ".venv",
   "language": "python",
   "name": "python3"
  },
  "language_info": {
   "codemirror_mode": {
    "name": "ipython",
    "version": 3
   },
   "file_extension": ".py",
   "mimetype": "text/x-python",
   "name": "python",
   "nbconvert_exporter": "python",
   "pygments_lexer": "ipython3",
   "version": "3.11.7"
  }
 },
 "nbformat": 4,
 "nbformat_minor": 2
}
