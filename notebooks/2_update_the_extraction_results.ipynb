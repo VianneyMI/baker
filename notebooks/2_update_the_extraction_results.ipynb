{
 "cells": [
  {
   "cell_type": "markdown",
   "metadata": {},
   "source": [
    "# Update the extraction results"
   ]
  },
  {
   "cell_type": "code",
   "execution_count": 1,
   "metadata": {},
   "outputs": [],
   "source": [
    "import os\n",
    "import datetime\n",
    "import json\n",
    "from pathlib import Path\n",
    "\n",
    "import numpy as np\n",
    "import pandas as pd\n",
    "from pydantic import BaseModel\n",
    "from amplifai import Amplifier\n",
    "from langchain_openai import ChatOpenAI\n",
    "from langchain_mistralai import ChatMistralAI\n",
    "from dotenv import load_dotenv\n",
    "from baker.schemas.ingredient import Ingredient\n",
    "from baker.schemas.recipe import Recipe, ParsedRecipe\n",
    "from baker.schemas.step import Step"
   ]
  },
  {
   "cell_type": "code",
   "execution_count": 2,
   "metadata": {},
   "outputs": [
    {
     "data": {
      "text/plain": [
       "True"
      ]
     },
     "execution_count": 2,
     "metadata": {},
     "output_type": "execute_result"
    }
   ],
   "source": [
    "load_dotenv()"
   ]
  },
  {
   "cell_type": "code",
   "execution_count": 3,
   "metadata": {},
   "outputs": [],
   "source": [
    "cwd = os.getcwd()\n",
    "path_to_data = Path(cwd).parent / \"data\"\n",
    "path_to_input = path_to_data / \"input\"\n",
    "path_to_output = path_to_data / \"output\"\n",
    "path_to_recipes_v1 = path_to_input / \"recipes_v1.json\""
   ]
  },
  {
   "cell_type": "code",
   "execution_count": 4,
   "metadata": {},
   "outputs": [],
   "source": [
    "OPENAI_API_KEY = os.getenv(\"OPENAI_API_KEY\")\n",
    "MISTRALAI_API_KEY = os.getenv(\"MISTRAL_API_KEY\")"
   ]
  },
  {
   "cell_type": "code",
   "execution_count": 5,
   "metadata": {},
   "outputs": [
    {
     "data": {
      "text/html": [
       "<div>\n",
       "<style scoped>\n",
       "    .dataframe tbody tr th:only-of-type {\n",
       "        vertical-align: middle;\n",
       "    }\n",
       "\n",
       "    .dataframe tbody tr th {\n",
       "        vertical-align: top;\n",
       "    }\n",
       "\n",
       "    .dataframe thead th {\n",
       "        text-align: right;\n",
       "    }\n",
       "</style>\n",
       "<table border=\"1\" class=\"dataframe\">\n",
       "  <thead>\n",
       "    <tr style=\"text-align: right;\">\n",
       "      <th></th>\n",
       "      <th>title</th>\n",
       "      <th>date</th>\n",
       "      <th>tags</th>\n",
       "      <th>introduction</th>\n",
       "      <th>ingredients</th>\n",
       "      <th>direction</th>\n",
       "      <th>output</th>\n",
       "    </tr>\n",
       "  </thead>\n",
       "  <tbody>\n",
       "    <tr>\n",
       "      <th>0</th>\n",
       "      <td>Creamy Mashed Potatoes</td>\n",
       "      <td>2021-03-12</td>\n",
       "      <td>[potato, side, cheesefare]</td>\n",
       "      <td>![Creamy Mashed Potatoes](/pix/creamy-mashed-p...</td>\n",
       "      <td>The quantities here are for about four adult p...</td>\n",
       "      <td>1. Peel and cut the potatoes into medium sized...</td>\n",
       "      <td>{'title': 'Creamy Mashed Potatoes', 'ingredien...</td>\n",
       "    </tr>\n",
       "    <tr>\n",
       "      <th>1</th>\n",
       "      <td>Red Sauce (Ragu all'Italiana)</td>\n",
       "      <td>2021-03-16</td>\n",
       "      <td>[italian, sauce]</td>\n",
       "      <td>My great-grandma's red sauce. All purpose: goo...</td>\n",
       "      <td>- 1/3 lb salt pork - 2 lb chuck roast - 3 Clov...</td>\n",
       "      <td>1. Mince the garlic, peel the carrot, peel and...</td>\n",
       "      <td>{'title': 'Red Sauce (Ragu all'Italiana)', 'in...</td>\n",
       "    </tr>\n",
       "    <tr>\n",
       "      <th>2</th>\n",
       "      <td>Turmeric Flatbread</td>\n",
       "      <td>2022-08-09</td>\n",
       "      <td>[bread, turkish]</td>\n",
       "      <td>A great companion to Turkish Red Lentil Soup. ...</td>\n",
       "      <td>- 1 cup Wheat Flour (white or whole) - 1/2 Tbs...</td>\n",
       "      <td>1. Combine flour, turmeric, salt and baking po...</td>\n",
       "      <td>{'title': 'Turmeric Flatbread', 'ingredients':...</td>\n",
       "    </tr>\n",
       "    <tr>\n",
       "      <th>3</th>\n",
       "      <td>Zurich-Style Meat Saute</td>\n",
       "      <td>2023-01-06</td>\n",
       "      <td>[beef, cream, swiss, quick]</td>\n",
       "      <td>Originally called \"Züri Gschnätzlets\" (Zurich ...</td>\n",
       "      <td>- 600g\\tBeef, finely sliced - 250g\\tMushrooms,...</td>\n",
       "      <td>1. Fry the meat in butter at high heat until i...</td>\n",
       "      <td>{'title': 'Zurich-Style Meat Saute', 'ingredie...</td>\n",
       "    </tr>\n",
       "    <tr>\n",
       "      <th>4</th>\n",
       "      <td>Tuscan Style Pork Roast</td>\n",
       "      <td>2021-03-10</td>\n",
       "      <td>[italian, pork, roast]</td>\n",
       "      <td>![tuscan-style-pork-roast](/pix/tuscan-style-p...</td>\n",
       "      <td>- 1 pork Roast - 2-3 Tbsp fresh rosemary - 8 c...</td>\n",
       "      <td>1.\\tPreheat oven to 275°F (135°C) 2.\\tButterfl...</td>\n",
       "      <td>{'title': 'Tuscan Style Pork Roast', 'ingredie...</td>\n",
       "    </tr>\n",
       "  </tbody>\n",
       "</table>\n",
       "</div>"
      ],
      "text/plain": [
       "                           title       date                         tags  \\\n",
       "0         Creamy Mashed Potatoes 2021-03-12   [potato, side, cheesefare]   \n",
       "1  Red Sauce (Ragu all'Italiana) 2021-03-16             [italian, sauce]   \n",
       "2             Turmeric Flatbread 2022-08-09             [bread, turkish]   \n",
       "3        Zurich-Style Meat Saute 2023-01-06  [beef, cream, swiss, quick]   \n",
       "4        Tuscan Style Pork Roast 2021-03-10       [italian, pork, roast]   \n",
       "\n",
       "                                        introduction  \\\n",
       "0  ![Creamy Mashed Potatoes](/pix/creamy-mashed-p...   \n",
       "1  My great-grandma's red sauce. All purpose: goo...   \n",
       "2  A great companion to Turkish Red Lentil Soup. ...   \n",
       "3  Originally called \"Züri Gschnätzlets\" (Zurich ...   \n",
       "4  ![tuscan-style-pork-roast](/pix/tuscan-style-p...   \n",
       "\n",
       "                                         ingredients  \\\n",
       "0  The quantities here are for about four adult p...   \n",
       "1  - 1/3 lb salt pork - 2 lb chuck roast - 3 Clov...   \n",
       "2  - 1 cup Wheat Flour (white or whole) - 1/2 Tbs...   \n",
       "3  - 600g\\tBeef, finely sliced - 250g\\tMushrooms,...   \n",
       "4  - 1 pork Roast - 2-3 Tbsp fresh rosemary - 8 c...   \n",
       "\n",
       "                                           direction  \\\n",
       "0  1. Peel and cut the potatoes into medium sized...   \n",
       "1  1. Mince the garlic, peel the carrot, peel and...   \n",
       "2  1. Combine flour, turmeric, salt and baking po...   \n",
       "3  1. Fry the meat in butter at high heat until i...   \n",
       "4  1.\\tPreheat oven to 275°F (135°C) 2.\\tButterfl...   \n",
       "\n",
       "                                              output  \n",
       "0  {'title': 'Creamy Mashed Potatoes', 'ingredien...  \n",
       "1  {'title': 'Red Sauce (Ragu all'Italiana)', 'in...  \n",
       "2  {'title': 'Turmeric Flatbread', 'ingredients':...  \n",
       "3  {'title': 'Zurich-Style Meat Saute', 'ingredie...  \n",
       "4  {'title': 'Tuscan Style Pork Roast', 'ingredie...  "
      ]
     },
     "execution_count": 5,
     "metadata": {},
     "output_type": "execute_result"
    }
   ],
   "source": [
    "df_recipes_v1 = pd.read_json(path_to_recipes_v1)\n",
    "df_recipes_v1.head()"
   ]
  },
  {
   "cell_type": "code",
   "execution_count": 14,
   "metadata": {},
   "outputs": [],
   "source": [
    "openai_llm = ChatOpenAI(api_key=OPENAI_API_KEY, temperature=0.7, model=\"gpt-4o\")\n",
    "mistral_llm = ChatMistralAI(\n",
    "    api_key=MISTRALAI_API_KEY, temperature=0.7, model=\"mistral-large-latest\"\n",
    ")"
   ]
  },
  {
   "cell_type": "code",
   "execution_count": 15,
   "metadata": {},
   "outputs": [],
   "source": [
    "human_prompt = \"\"\"Given the following recipe introduction, ingredients and steps. Please structure the recipe as a NoSQL document.\n",
    "\n",
    "Introduction:\n",
    "{introduction}\n",
    "\n",
    "Ingredients:\n",
    "{ingredients}\n",
    "\n",
    "Steps:\n",
    "{steps}\n",
    "\n",
    "\"\"\""
   ]
  },
  {
   "cell_type": "code",
   "execution_count": 16,
   "metadata": {},
   "outputs": [],
   "source": [
    "openai_amplifier = Amplifier[ChatOpenAI, ParsedRecipe](\n",
    "    llm=openai_llm,\n",
    "    human_prompt=human_prompt,\n",
    ")\n",
    "\n",
    "mistral_amplifier = Amplifier[ChatMistralAI, ParsedRecipe](\n",
    "    llm=mistral_llm,\n",
    "    human_prompt=human_prompt,\n",
    ")"
   ]
  },
  {
   "cell_type": "code",
   "execution_count": 17,
   "metadata": {},
   "outputs": [],
   "source": [
    "recipes_v1 = df_recipes_v1.to_dict(orient=\"records\")"
   ]
  },
  {
   "cell_type": "code",
   "execution_count": 18,
   "metadata": {},
   "outputs": [],
   "source": [
    "first_recipe = recipes_v1[0]"
   ]
  },
  {
   "cell_type": "code",
   "execution_count": 19,
   "metadata": {},
   "outputs": [
    {
     "data": {
      "text/plain": [
       "ParsedRecipe(serving_size=4, preparation_time=None, cooking_time=None, ingredients=[Ingredient(id=1, name='potatoes', quantity=1.0, unit='kilogram', optional=False), Ingredient(id=2, name='milk', quantity=200.0, unit='ml', optional=False), Ingredient(id=3, name='mayonnaise', quantity=200.0, unit='ml', optional=False), Ingredient(id=4, name='cheese', quantity=100.0, unit='gram', optional=False), Ingredient(id=5, name='Garlic powder', quantity=None, unit='N/A', optional=False), Ingredient(id=6, name='bacon', quantity=Range(min=12.0, max=16.0), unit='strip', optional=False), Ingredient(id=7, name='Butter', quantity=None, unit='N/A', optional=False), Ingredient(id=8, name='green onions', quantity=Range(min=3.0, max=4.0), unit='unit', optional=False), Ingredient(id=9, name='Black pepper', quantity=None, unit='N/A', optional=False), Ingredient(id=10, name='Salt', quantity=None, unit='N/A', optional=False)], steps=[Step(number=1, description='Peel and cut the potatoes into medium sized pieces.', duration=None, temperature=None, heat_intensity=None, ingredients_ids=[1], optional=False), Step(number=2, description='Put the potatoes in a pot with some water so that it covers the potatoes and boil them for about 20-30 minutes, or until the potatoes are soft.', duration=Duration(preparation=None, cooking=Range(min=20.0, max=30.0), waiting=None), temperature=None, heat_intensity=None, ingredients_ids=[1], optional=False), Step(number=3, description='About ten minutes before removing the potatoes from the boiling water, cut the bacon into little pieces and fry it.', duration=None, temperature=None, heat_intensity=None, ingredients_ids=[6], optional=False), Step(number=4, description='Warm up the milk and mayonnaise.', duration=None, temperature=None, heat_intensity=None, ingredients_ids=[2, 3], optional=False), Step(number=5, description='Shred the cheese.', duration=None, temperature=None, heat_intensity=None, ingredients_ids=[4], optional=False), Step(number=6, description='When the potatoes are done, remove all water from the pot, add the warm milk and mayonnaise mix, add some butter, and mash with a potato masher or a blender.', duration=None, temperature=None, heat_intensity=None, ingredients_ids=[1, 2, 3, 7], optional=False), Step(number=7, description='Add some salt, black pepper and garlic powder to taste and continue mashing the mix.', duration=None, temperature=None, heat_intensity=None, ingredients_ids=[5, 9, 10], optional=False), Step(number=8, description='Once the mix is somewhat homogeneous and the potatoes are properly mashed, add the shredded cheese and fried bacon and mix a little.', duration=None, temperature=None, heat_intensity=None, ingredients_ids=[4, 6], optional=False), Step(number=9, description='Serve and top with chopped green onions.', duration=None, temperature=None, heat_intensity=None, ingredients_ids=[8], optional=False)])"
      ]
     },
     "execution_count": 19,
     "metadata": {},
     "output_type": "execute_result"
    }
   ],
   "source": [
    "parsed_recipe = openai_amplifier.denoise(\n",
    "    introduction=first_recipe[\"introduction\"],\n",
    "    ingredients=first_recipe[\"ingredients\"],\n",
    "    steps=first_recipe[\"direction\"],\n",
    ")\n",
    "parsed_recipe"
   ]
  },
  {
   "cell_type": "code",
   "execution_count": 20,
   "metadata": {},
   "outputs": [
    {
     "data": {
      "text/plain": [
       "{'serving_size': 4,\n",
       " 'preparation_time': None,\n",
       " 'cooking_time': None,\n",
       " 'ingredients': [{'id': 1,\n",
       "   'name': 'potatoes',\n",
       "   'quantity': 1.0,\n",
       "   'unit': 'kilogram',\n",
       "   'optional': False},\n",
       "  {'id': 2,\n",
       "   'name': 'milk',\n",
       "   'quantity': 200.0,\n",
       "   'unit': 'ml',\n",
       "   'optional': False},\n",
       "  {'id': 3,\n",
       "   'name': 'mayonnaise',\n",
       "   'quantity': 200.0,\n",
       "   'unit': 'ml',\n",
       "   'optional': False},\n",
       "  {'id': 4,\n",
       "   'name': 'cheese',\n",
       "   'quantity': 100.0,\n",
       "   'unit': 'gram',\n",
       "   'optional': False},\n",
       "  {'id': 5,\n",
       "   'name': 'Garlic powder',\n",
       "   'quantity': None,\n",
       "   'unit': 'N/A',\n",
       "   'optional': False},\n",
       "  {'id': 6,\n",
       "   'name': 'bacon',\n",
       "   'quantity': {'min': 12.0, 'max': 16.0},\n",
       "   'unit': 'strip',\n",
       "   'optional': False},\n",
       "  {'id': 7,\n",
       "   'name': 'Butter',\n",
       "   'quantity': None,\n",
       "   'unit': 'N/A',\n",
       "   'optional': False},\n",
       "  {'id': 8,\n",
       "   'name': 'green onions',\n",
       "   'quantity': {'min': 3.0, 'max': 4.0},\n",
       "   'unit': 'unit',\n",
       "   'optional': False},\n",
       "  {'id': 9,\n",
       "   'name': 'Black pepper',\n",
       "   'quantity': None,\n",
       "   'unit': 'N/A',\n",
       "   'optional': False},\n",
       "  {'id': 10,\n",
       "   'name': 'Salt',\n",
       "   'quantity': None,\n",
       "   'unit': 'N/A',\n",
       "   'optional': False}],\n",
       " 'steps': [{'number': 1,\n",
       "   'description': 'Peel and cut the potatoes into medium sized pieces.',\n",
       "   'duration': None,\n",
       "   'temperature': None,\n",
       "   'heat_intensity': None,\n",
       "   'ingredients_ids': [1],\n",
       "   'optional': False},\n",
       "  {'number': 2,\n",
       "   'description': 'Put the potatoes in a pot with some water so that it covers the potatoes and boil them for about 20-30 minutes, or until the potatoes are soft.',\n",
       "   'duration': {'preparation': None,\n",
       "    'cooking': {'min': 20.0, 'max': 30.0},\n",
       "    'waiting': None},\n",
       "   'temperature': None,\n",
       "   'heat_intensity': None,\n",
       "   'ingredients_ids': [1],\n",
       "   'optional': False},\n",
       "  {'number': 3,\n",
       "   'description': 'About ten minutes before removing the potatoes from the boiling water, cut the bacon into little pieces and fry it.',\n",
       "   'duration': None,\n",
       "   'temperature': None,\n",
       "   'heat_intensity': None,\n",
       "   'ingredients_ids': [6],\n",
       "   'optional': False},\n",
       "  {'number': 4,\n",
       "   'description': 'Warm up the milk and mayonnaise.',\n",
       "   'duration': None,\n",
       "   'temperature': None,\n",
       "   'heat_intensity': None,\n",
       "   'ingredients_ids': [2, 3],\n",
       "   'optional': False},\n",
       "  {'number': 5,\n",
       "   'description': 'Shred the cheese.',\n",
       "   'duration': None,\n",
       "   'temperature': None,\n",
       "   'heat_intensity': None,\n",
       "   'ingredients_ids': [4],\n",
       "   'optional': False},\n",
       "  {'number': 6,\n",
       "   'description': 'When the potatoes are done, remove all water from the pot, add the warm milk and mayonnaise mix, add some butter, and mash with a potato masher or a blender.',\n",
       "   'duration': None,\n",
       "   'temperature': None,\n",
       "   'heat_intensity': None,\n",
       "   'ingredients_ids': [1, 2, 3, 7],\n",
       "   'optional': False},\n",
       "  {'number': 7,\n",
       "   'description': 'Add some salt, black pepper and garlic powder to taste and continue mashing the mix.',\n",
       "   'duration': None,\n",
       "   'temperature': None,\n",
       "   'heat_intensity': None,\n",
       "   'ingredients_ids': [5, 9, 10],\n",
       "   'optional': False},\n",
       "  {'number': 8,\n",
       "   'description': 'Once the mix is somewhat homogeneous and the potatoes are properly mashed, add the shredded cheese and fried bacon and mix a little.',\n",
       "   'duration': None,\n",
       "   'temperature': None,\n",
       "   'heat_intensity': None,\n",
       "   'ingredients_ids': [4, 6],\n",
       "   'optional': False},\n",
       "  {'number': 9,\n",
       "   'description': 'Serve and top with chopped green onions.',\n",
       "   'duration': None,\n",
       "   'temperature': None,\n",
       "   'heat_intensity': None,\n",
       "   'ingredients_ids': [8],\n",
       "   'optional': False}]}"
      ]
     },
     "execution_count": 20,
     "metadata": {},
     "output_type": "execute_result"
    }
   ],
   "source": [
    "parsed_recipe.model_dump()"
   ]
  },
  {
   "cell_type": "code",
   "execution_count": 13,
   "metadata": {},
   "outputs": [
    {
     "ename": "ValidationError",
     "evalue": "1 validation error for ParsedRecipe\nserving_size\n  Field required [type=missing, input_value={'ingredients': [{'id': 1...hopped green onions.'}]}, input_type=dict]\n    For further information visit https://errors.pydantic.dev/2.9/v/missing",
     "output_type": "error",
     "traceback": [
      "\u001b[0;31m---------------------------------------------------------------------------\u001b[0m",
      "\u001b[0;31mValidationError\u001b[0m                           Traceback (most recent call last)",
      "Cell \u001b[0;32mIn[13], line 1\u001b[0m\n\u001b[0;32m----> 1\u001b[0m mistral_parsed_recipe \u001b[38;5;241m=\u001b[39m \u001b[43mmistral_amplifier\u001b[49m\u001b[38;5;241;43m.\u001b[39;49m\u001b[43mdenoise\u001b[49m\u001b[43m(\u001b[49m\n\u001b[1;32m      2\u001b[0m \u001b[43m    \u001b[49m\u001b[43mintroduction\u001b[49m\u001b[38;5;241;43m=\u001b[39;49m\u001b[43mfirst_recipe\u001b[49m\u001b[43m[\u001b[49m\u001b[38;5;124;43m\"\u001b[39;49m\u001b[38;5;124;43mintroduction\u001b[39;49m\u001b[38;5;124;43m\"\u001b[39;49m\u001b[43m]\u001b[49m\u001b[43m,\u001b[49m\n\u001b[1;32m      3\u001b[0m \u001b[43m    \u001b[49m\u001b[43mingredients\u001b[49m\u001b[38;5;241;43m=\u001b[39;49m\u001b[43mfirst_recipe\u001b[49m\u001b[43m[\u001b[49m\u001b[38;5;124;43m\"\u001b[39;49m\u001b[38;5;124;43mingredients\u001b[39;49m\u001b[38;5;124;43m\"\u001b[39;49m\u001b[43m]\u001b[49m\u001b[43m,\u001b[49m\n\u001b[1;32m      4\u001b[0m \u001b[43m    \u001b[49m\u001b[43msteps\u001b[49m\u001b[38;5;241;43m=\u001b[39;49m\u001b[43mfirst_recipe\u001b[49m\u001b[43m[\u001b[49m\u001b[38;5;124;43m\"\u001b[39;49m\u001b[38;5;124;43mdirection\u001b[39;49m\u001b[38;5;124;43m\"\u001b[39;49m\u001b[43m]\u001b[49m\u001b[43m,\u001b[49m\n\u001b[1;32m      5\u001b[0m \u001b[43m)\u001b[49m\n\u001b[1;32m      6\u001b[0m mistral_parsed_recipe\u001b[38;5;241m.\u001b[39mmodel_dump()\n",
      "File \u001b[0;32m~/CustomDesktop/exploration/baker/.venv/lib/python3.11/site-packages/amplifai/amplifier.py:74\u001b[0m, in \u001b[0;36mAmplifier.denoise\u001b[0;34m(self, include_raw, **kwargs)\u001b[0m\n\u001b[1;32m     71\u001b[0m     kwargs[\u001b[38;5;124m\"\u001b[39m\u001b[38;5;124mexamples\u001b[39m\u001b[38;5;124m\"\u001b[39m] \u001b[38;5;241m=\u001b[39m \u001b[38;5;28mself\u001b[39m\u001b[38;5;241m.\u001b[39mexamples\n\u001b[1;32m     73\u001b[0m chain \u001b[38;5;241m=\u001b[39m \u001b[38;5;28mself\u001b[39m\u001b[38;5;241m.\u001b[39m_create_chain(include_raw\u001b[38;5;241m=\u001b[39minclude_raw)\n\u001b[0;32m---> 74\u001b[0m output \u001b[38;5;241m=\u001b[39m \u001b[43mchain\u001b[49m\u001b[38;5;241;43m.\u001b[39;49m\u001b[43minvoke\u001b[49m\u001b[43m(\u001b[49m\u001b[43mkwargs\u001b[49m\u001b[43m)\u001b[49m\n\u001b[1;32m     76\u001b[0m \u001b[38;5;28;01mreturn\u001b[39;00m output\n",
      "File \u001b[0;32m~/CustomDesktop/exploration/baker/.venv/lib/python3.11/site-packages/langchain_core/runnables/base.py:3024\u001b[0m, in \u001b[0;36mRunnableSequence.invoke\u001b[0;34m(self, input, config, **kwargs)\u001b[0m\n\u001b[1;32m   3022\u001b[0m             \u001b[38;5;28minput\u001b[39m \u001b[38;5;241m=\u001b[39m context\u001b[38;5;241m.\u001b[39mrun(step\u001b[38;5;241m.\u001b[39minvoke, \u001b[38;5;28minput\u001b[39m, config, \u001b[38;5;241m*\u001b[39m\u001b[38;5;241m*\u001b[39mkwargs)\n\u001b[1;32m   3023\u001b[0m         \u001b[38;5;28;01melse\u001b[39;00m:\n\u001b[0;32m-> 3024\u001b[0m             \u001b[38;5;28minput\u001b[39m \u001b[38;5;241m=\u001b[39m \u001b[43mcontext\u001b[49m\u001b[38;5;241;43m.\u001b[39;49m\u001b[43mrun\u001b[49m\u001b[43m(\u001b[49m\u001b[43mstep\u001b[49m\u001b[38;5;241;43m.\u001b[39;49m\u001b[43minvoke\u001b[49m\u001b[43m,\u001b[49m\u001b[43m \u001b[49m\u001b[38;5;28;43minput\u001b[39;49m\u001b[43m,\u001b[49m\u001b[43m \u001b[49m\u001b[43mconfig\u001b[49m\u001b[43m)\u001b[49m\n\u001b[1;32m   3025\u001b[0m \u001b[38;5;66;03m# finish the root run\u001b[39;00m\n\u001b[1;32m   3026\u001b[0m \u001b[38;5;28;01mexcept\u001b[39;00m \u001b[38;5;167;01mBaseException\u001b[39;00m \u001b[38;5;28;01mas\u001b[39;00m e:\n",
      "File \u001b[0;32m~/CustomDesktop/exploration/baker/.venv/lib/python3.11/site-packages/langchain_core/output_parsers/base.py:193\u001b[0m, in \u001b[0;36mBaseOutputParser.invoke\u001b[0;34m(self, input, config, **kwargs)\u001b[0m\n\u001b[1;32m    186\u001b[0m \u001b[38;5;28;01mdef\u001b[39;00m \u001b[38;5;21minvoke\u001b[39m(\n\u001b[1;32m    187\u001b[0m     \u001b[38;5;28mself\u001b[39m,\n\u001b[1;32m    188\u001b[0m     \u001b[38;5;28minput\u001b[39m: Union[\u001b[38;5;28mstr\u001b[39m, BaseMessage],\n\u001b[1;32m    189\u001b[0m     config: Optional[RunnableConfig] \u001b[38;5;241m=\u001b[39m \u001b[38;5;28;01mNone\u001b[39;00m,\n\u001b[1;32m    190\u001b[0m     \u001b[38;5;241m*\u001b[39m\u001b[38;5;241m*\u001b[39mkwargs: Any,\n\u001b[1;32m    191\u001b[0m ) \u001b[38;5;241m-\u001b[39m\u001b[38;5;241m>\u001b[39m T:\n\u001b[1;32m    192\u001b[0m     \u001b[38;5;28;01mif\u001b[39;00m \u001b[38;5;28misinstance\u001b[39m(\u001b[38;5;28minput\u001b[39m, BaseMessage):\n\u001b[0;32m--> 193\u001b[0m         \u001b[38;5;28;01mreturn\u001b[39;00m \u001b[38;5;28;43mself\u001b[39;49m\u001b[38;5;241;43m.\u001b[39;49m\u001b[43m_call_with_config\u001b[49m\u001b[43m(\u001b[49m\n\u001b[1;32m    194\u001b[0m \u001b[43m            \u001b[49m\u001b[38;5;28;43;01mlambda\u001b[39;49;00m\u001b[43m \u001b[49m\u001b[43minner_input\u001b[49m\u001b[43m:\u001b[49m\u001b[43m \u001b[49m\u001b[38;5;28;43mself\u001b[39;49m\u001b[38;5;241;43m.\u001b[39;49m\u001b[43mparse_result\u001b[49m\u001b[43m(\u001b[49m\n\u001b[1;32m    195\u001b[0m \u001b[43m                \u001b[49m\u001b[43m[\u001b[49m\u001b[43mChatGeneration\u001b[49m\u001b[43m(\u001b[49m\u001b[43mmessage\u001b[49m\u001b[38;5;241;43m=\u001b[39;49m\u001b[43minner_input\u001b[49m\u001b[43m)\u001b[49m\u001b[43m]\u001b[49m\n\u001b[1;32m    196\u001b[0m \u001b[43m            \u001b[49m\u001b[43m)\u001b[49m\u001b[43m,\u001b[49m\n\u001b[1;32m    197\u001b[0m \u001b[43m            \u001b[49m\u001b[38;5;28;43minput\u001b[39;49m\u001b[43m,\u001b[49m\n\u001b[1;32m    198\u001b[0m \u001b[43m            \u001b[49m\u001b[43mconfig\u001b[49m\u001b[43m,\u001b[49m\n\u001b[1;32m    199\u001b[0m \u001b[43m            \u001b[49m\u001b[43mrun_type\u001b[49m\u001b[38;5;241;43m=\u001b[39;49m\u001b[38;5;124;43m\"\u001b[39;49m\u001b[38;5;124;43mparser\u001b[39;49m\u001b[38;5;124;43m\"\u001b[39;49m\u001b[43m,\u001b[49m\n\u001b[1;32m    200\u001b[0m \u001b[43m        \u001b[49m\u001b[43m)\u001b[49m\n\u001b[1;32m    201\u001b[0m     \u001b[38;5;28;01melse\u001b[39;00m:\n\u001b[1;32m    202\u001b[0m         \u001b[38;5;28;01mreturn\u001b[39;00m \u001b[38;5;28mself\u001b[39m\u001b[38;5;241m.\u001b[39m_call_with_config(\n\u001b[1;32m    203\u001b[0m             \u001b[38;5;28;01mlambda\u001b[39;00m inner_input: \u001b[38;5;28mself\u001b[39m\u001b[38;5;241m.\u001b[39mparse_result([Generation(text\u001b[38;5;241m=\u001b[39minner_input)]),\n\u001b[1;32m    204\u001b[0m             \u001b[38;5;28minput\u001b[39m,\n\u001b[1;32m    205\u001b[0m             config,\n\u001b[1;32m    206\u001b[0m             run_type\u001b[38;5;241m=\u001b[39m\u001b[38;5;124m\"\u001b[39m\u001b[38;5;124mparser\u001b[39m\u001b[38;5;124m\"\u001b[39m,\n\u001b[1;32m    207\u001b[0m         )\n",
      "File \u001b[0;32m~/CustomDesktop/exploration/baker/.venv/lib/python3.11/site-packages/langchain_core/runnables/base.py:1927\u001b[0m, in \u001b[0;36mRunnable._call_with_config\u001b[0;34m(self, func, input, config, run_type, serialized, **kwargs)\u001b[0m\n\u001b[1;32m   1923\u001b[0m     context \u001b[38;5;241m=\u001b[39m copy_context()\n\u001b[1;32m   1924\u001b[0m     context\u001b[38;5;241m.\u001b[39mrun(_set_config_context, child_config)\n\u001b[1;32m   1925\u001b[0m     output \u001b[38;5;241m=\u001b[39m cast(\n\u001b[1;32m   1926\u001b[0m         Output,\n\u001b[0;32m-> 1927\u001b[0m         \u001b[43mcontext\u001b[49m\u001b[38;5;241;43m.\u001b[39;49m\u001b[43mrun\u001b[49m\u001b[43m(\u001b[49m\n\u001b[1;32m   1928\u001b[0m \u001b[43m            \u001b[49m\u001b[43mcall_func_with_variable_args\u001b[49m\u001b[43m,\u001b[49m\u001b[43m  \u001b[49m\u001b[38;5;66;43;03m# type: ignore[arg-type]\u001b[39;49;00m\n\u001b[1;32m   1929\u001b[0m \u001b[43m            \u001b[49m\u001b[43mfunc\u001b[49m\u001b[43m,\u001b[49m\u001b[43m  \u001b[49m\u001b[38;5;66;43;03m# type: ignore[arg-type]\u001b[39;49;00m\n\u001b[1;32m   1930\u001b[0m \u001b[43m            \u001b[49m\u001b[38;5;28;43minput\u001b[39;49m\u001b[43m,\u001b[49m\u001b[43m  \u001b[49m\u001b[38;5;66;43;03m# type: ignore[arg-type]\u001b[39;49;00m\n\u001b[1;32m   1931\u001b[0m \u001b[43m            \u001b[49m\u001b[43mconfig\u001b[49m\u001b[43m,\u001b[49m\n\u001b[1;32m   1932\u001b[0m \u001b[43m            \u001b[49m\u001b[43mrun_manager\u001b[49m\u001b[43m,\u001b[49m\n\u001b[1;32m   1933\u001b[0m \u001b[43m            \u001b[49m\u001b[38;5;241;43m*\u001b[39;49m\u001b[38;5;241;43m*\u001b[39;49m\u001b[43mkwargs\u001b[49m\u001b[43m,\u001b[49m\n\u001b[1;32m   1934\u001b[0m \u001b[43m        \u001b[49m\u001b[43m)\u001b[49m,\n\u001b[1;32m   1935\u001b[0m     )\n\u001b[1;32m   1936\u001b[0m \u001b[38;5;28;01mexcept\u001b[39;00m \u001b[38;5;167;01mBaseException\u001b[39;00m \u001b[38;5;28;01mas\u001b[39;00m e:\n\u001b[1;32m   1937\u001b[0m     run_manager\u001b[38;5;241m.\u001b[39mon_chain_error(e)\n",
      "File \u001b[0;32m~/CustomDesktop/exploration/baker/.venv/lib/python3.11/site-packages/langchain_core/runnables/config.py:396\u001b[0m, in \u001b[0;36mcall_func_with_variable_args\u001b[0;34m(func, input, config, run_manager, **kwargs)\u001b[0m\n\u001b[1;32m    394\u001b[0m \u001b[38;5;28;01mif\u001b[39;00m run_manager \u001b[38;5;129;01mis\u001b[39;00m \u001b[38;5;129;01mnot\u001b[39;00m \u001b[38;5;28;01mNone\u001b[39;00m \u001b[38;5;129;01mand\u001b[39;00m accepts_run_manager(func):\n\u001b[1;32m    395\u001b[0m     kwargs[\u001b[38;5;124m\"\u001b[39m\u001b[38;5;124mrun_manager\u001b[39m\u001b[38;5;124m\"\u001b[39m] \u001b[38;5;241m=\u001b[39m run_manager\n\u001b[0;32m--> 396\u001b[0m \u001b[38;5;28;01mreturn\u001b[39;00m \u001b[43mfunc\u001b[49m\u001b[43m(\u001b[49m\u001b[38;5;28;43minput\u001b[39;49m\u001b[43m,\u001b[49m\u001b[43m \u001b[49m\u001b[38;5;241;43m*\u001b[39;49m\u001b[38;5;241;43m*\u001b[39;49m\u001b[43mkwargs\u001b[49m\u001b[43m)\u001b[49m\n",
      "File \u001b[0;32m~/CustomDesktop/exploration/baker/.venv/lib/python3.11/site-packages/langchain_core/output_parsers/base.py:194\u001b[0m, in \u001b[0;36mBaseOutputParser.invoke.<locals>.<lambda>\u001b[0;34m(inner_input)\u001b[0m\n\u001b[1;32m    186\u001b[0m \u001b[38;5;28;01mdef\u001b[39;00m \u001b[38;5;21minvoke\u001b[39m(\n\u001b[1;32m    187\u001b[0m     \u001b[38;5;28mself\u001b[39m,\n\u001b[1;32m    188\u001b[0m     \u001b[38;5;28minput\u001b[39m: Union[\u001b[38;5;28mstr\u001b[39m, BaseMessage],\n\u001b[1;32m    189\u001b[0m     config: Optional[RunnableConfig] \u001b[38;5;241m=\u001b[39m \u001b[38;5;28;01mNone\u001b[39;00m,\n\u001b[1;32m    190\u001b[0m     \u001b[38;5;241m*\u001b[39m\u001b[38;5;241m*\u001b[39mkwargs: Any,\n\u001b[1;32m    191\u001b[0m ) \u001b[38;5;241m-\u001b[39m\u001b[38;5;241m>\u001b[39m T:\n\u001b[1;32m    192\u001b[0m     \u001b[38;5;28;01mif\u001b[39;00m \u001b[38;5;28misinstance\u001b[39m(\u001b[38;5;28minput\u001b[39m, BaseMessage):\n\u001b[1;32m    193\u001b[0m         \u001b[38;5;28;01mreturn\u001b[39;00m \u001b[38;5;28mself\u001b[39m\u001b[38;5;241m.\u001b[39m_call_with_config(\n\u001b[0;32m--> 194\u001b[0m             \u001b[38;5;28;01mlambda\u001b[39;00m inner_input: \u001b[38;5;28;43mself\u001b[39;49m\u001b[38;5;241;43m.\u001b[39;49m\u001b[43mparse_result\u001b[49m\u001b[43m(\u001b[49m\n\u001b[1;32m    195\u001b[0m \u001b[43m                \u001b[49m\u001b[43m[\u001b[49m\u001b[43mChatGeneration\u001b[49m\u001b[43m(\u001b[49m\u001b[43mmessage\u001b[49m\u001b[38;5;241;43m=\u001b[39;49m\u001b[43minner_input\u001b[49m\u001b[43m)\u001b[49m\u001b[43m]\u001b[49m\n\u001b[1;32m    196\u001b[0m \u001b[43m            \u001b[49m\u001b[43m)\u001b[49m,\n\u001b[1;32m    197\u001b[0m             \u001b[38;5;28minput\u001b[39m,\n\u001b[1;32m    198\u001b[0m             config,\n\u001b[1;32m    199\u001b[0m             run_type\u001b[38;5;241m=\u001b[39m\u001b[38;5;124m\"\u001b[39m\u001b[38;5;124mparser\u001b[39m\u001b[38;5;124m\"\u001b[39m,\n\u001b[1;32m    200\u001b[0m         )\n\u001b[1;32m    201\u001b[0m     \u001b[38;5;28;01melse\u001b[39;00m:\n\u001b[1;32m    202\u001b[0m         \u001b[38;5;28;01mreturn\u001b[39;00m \u001b[38;5;28mself\u001b[39m\u001b[38;5;241m.\u001b[39m_call_with_config(\n\u001b[1;32m    203\u001b[0m             \u001b[38;5;28;01mlambda\u001b[39;00m inner_input: \u001b[38;5;28mself\u001b[39m\u001b[38;5;241m.\u001b[39mparse_result([Generation(text\u001b[38;5;241m=\u001b[39minner_input)]),\n\u001b[1;32m    204\u001b[0m             \u001b[38;5;28minput\u001b[39m,\n\u001b[1;32m    205\u001b[0m             config,\n\u001b[1;32m    206\u001b[0m             run_type\u001b[38;5;241m=\u001b[39m\u001b[38;5;124m\"\u001b[39m\u001b[38;5;124mparser\u001b[39m\u001b[38;5;124m\"\u001b[39m,\n\u001b[1;32m    207\u001b[0m         )\n",
      "File \u001b[0;32m~/CustomDesktop/exploration/baker/.venv/lib/python3.11/site-packages/langchain_core/output_parsers/openai_tools.py:298\u001b[0m, in \u001b[0;36mPydanticToolsParser.parse_result\u001b[0;34m(self, result, partial)\u001b[0m\n\u001b[1;32m    296\u001b[0m             \u001b[38;5;28;01mcontinue\u001b[39;00m\n\u001b[1;32m    297\u001b[0m         \u001b[38;5;28;01melse\u001b[39;00m:\n\u001b[0;32m--> 298\u001b[0m             \u001b[38;5;28;01mraise\u001b[39;00m e\n\u001b[1;32m    299\u001b[0m \u001b[38;5;28;01mif\u001b[39;00m \u001b[38;5;28mself\u001b[39m\u001b[38;5;241m.\u001b[39mfirst_tool_only:\n\u001b[1;32m    300\u001b[0m     \u001b[38;5;28;01mreturn\u001b[39;00m pydantic_objects[\u001b[38;5;241m0\u001b[39m] \u001b[38;5;28;01mif\u001b[39;00m pydantic_objects \u001b[38;5;28;01melse\u001b[39;00m \u001b[38;5;28;01mNone\u001b[39;00m\n",
      "File \u001b[0;32m~/CustomDesktop/exploration/baker/.venv/lib/python3.11/site-packages/langchain_core/output_parsers/openai_tools.py:293\u001b[0m, in \u001b[0;36mPydanticToolsParser.parse_result\u001b[0;34m(self, result, partial)\u001b[0m\n\u001b[1;32m    288\u001b[0m         msg \u001b[38;5;241m=\u001b[39m (\n\u001b[1;32m    289\u001b[0m             \u001b[38;5;124mf\u001b[39m\u001b[38;5;124m\"\u001b[39m\u001b[38;5;124mTool arguments must be specified as a dict, received: \u001b[39m\u001b[38;5;124m\"\u001b[39m\n\u001b[1;32m    290\u001b[0m             \u001b[38;5;124mf\u001b[39m\u001b[38;5;124m\"\u001b[39m\u001b[38;5;132;01m{\u001b[39;00mres[\u001b[38;5;124m'\u001b[39m\u001b[38;5;124margs\u001b[39m\u001b[38;5;124m'\u001b[39m]\u001b[38;5;132;01m}\u001b[39;00m\u001b[38;5;124m\"\u001b[39m\n\u001b[1;32m    291\u001b[0m         )\n\u001b[1;32m    292\u001b[0m         \u001b[38;5;28;01mraise\u001b[39;00m \u001b[38;5;167;01mValueError\u001b[39;00m(msg)\n\u001b[0;32m--> 293\u001b[0m     pydantic_objects\u001b[38;5;241m.\u001b[39mappend(\u001b[43mname_dict\u001b[49m\u001b[43m[\u001b[49m\u001b[43mres\u001b[49m\u001b[43m[\u001b[49m\u001b[38;5;124;43m\"\u001b[39;49m\u001b[38;5;124;43mtype\u001b[39;49m\u001b[38;5;124;43m\"\u001b[39;49m\u001b[43m]\u001b[49m\u001b[43m]\u001b[49m\u001b[43m(\u001b[49m\u001b[38;5;241;43m*\u001b[39;49m\u001b[38;5;241;43m*\u001b[39;49m\u001b[43mres\u001b[49m\u001b[43m[\u001b[49m\u001b[38;5;124;43m\"\u001b[39;49m\u001b[38;5;124;43margs\u001b[39;49m\u001b[38;5;124;43m\"\u001b[39;49m\u001b[43m]\u001b[49m\u001b[43m)\u001b[49m)\n\u001b[1;32m    294\u001b[0m \u001b[38;5;28;01mexcept\u001b[39;00m (ValidationError, \u001b[38;5;167;01mValueError\u001b[39;00m) \u001b[38;5;28;01mas\u001b[39;00m e:\n\u001b[1;32m    295\u001b[0m     \u001b[38;5;28;01mif\u001b[39;00m partial:\n",
      "File \u001b[0;32m~/CustomDesktop/exploration/baker/.venv/lib/python3.11/site-packages/pydantic/main.py:212\u001b[0m, in \u001b[0;36mBaseModel.__init__\u001b[0;34m(self, **data)\u001b[0m\n\u001b[1;32m    210\u001b[0m \u001b[38;5;66;03m# `__tracebackhide__` tells pytest and some other tools to omit this function from tracebacks\u001b[39;00m\n\u001b[1;32m    211\u001b[0m __tracebackhide__ \u001b[38;5;241m=\u001b[39m \u001b[38;5;28;01mTrue\u001b[39;00m\n\u001b[0;32m--> 212\u001b[0m validated_self \u001b[38;5;241m=\u001b[39m \u001b[38;5;28;43mself\u001b[39;49m\u001b[38;5;241;43m.\u001b[39;49m\u001b[43m__pydantic_validator__\u001b[49m\u001b[38;5;241;43m.\u001b[39;49m\u001b[43mvalidate_python\u001b[49m\u001b[43m(\u001b[49m\u001b[43mdata\u001b[49m\u001b[43m,\u001b[49m\u001b[43m \u001b[49m\u001b[43mself_instance\u001b[49m\u001b[38;5;241;43m=\u001b[39;49m\u001b[38;5;28;43mself\u001b[39;49m\u001b[43m)\u001b[49m\n\u001b[1;32m    213\u001b[0m \u001b[38;5;28;01mif\u001b[39;00m \u001b[38;5;28mself\u001b[39m \u001b[38;5;129;01mis\u001b[39;00m \u001b[38;5;129;01mnot\u001b[39;00m validated_self:\n\u001b[1;32m    214\u001b[0m     warnings\u001b[38;5;241m.\u001b[39mwarn(\n\u001b[1;32m    215\u001b[0m         \u001b[38;5;124m'\u001b[39m\u001b[38;5;124mA custom validator is returning a value other than `self`.\u001b[39m\u001b[38;5;130;01m\\n\u001b[39;00m\u001b[38;5;124m'\u001b[39m\n\u001b[1;32m    216\u001b[0m         \u001b[38;5;124m\"\u001b[39m\u001b[38;5;124mReturning anything other than `self` from a top level model validator isn\u001b[39m\u001b[38;5;124m'\u001b[39m\u001b[38;5;124mt supported when validating via `__init__`.\u001b[39m\u001b[38;5;130;01m\\n\u001b[39;00m\u001b[38;5;124m\"\u001b[39m\n\u001b[1;32m    217\u001b[0m         \u001b[38;5;124m'\u001b[39m\u001b[38;5;124mSee the `model_validator` docs (https://docs.pydantic.dev/latest/concepts/validators/#model-validators) for more details.\u001b[39m\u001b[38;5;124m'\u001b[39m,\n\u001b[1;32m    218\u001b[0m         category\u001b[38;5;241m=\u001b[39m\u001b[38;5;28;01mNone\u001b[39;00m,\n\u001b[1;32m    219\u001b[0m     )\n",
      "\u001b[0;31mValidationError\u001b[0m: 1 validation error for ParsedRecipe\nserving_size\n  Field required [type=missing, input_value={'ingredients': [{'id': 1...hopped green onions.'}]}, input_type=dict]\n    For further information visit https://errors.pydantic.dev/2.9/v/missing"
     ]
    }
   ],
   "source": [
    "mistral_parsed_recipe = mistral_amplifier.denoise(\n",
    "    introduction=first_recipe[\"introduction\"],\n",
    "    ingredients=first_recipe[\"ingredients\"],\n",
    "    steps=first_recipe[\"direction\"],\n",
    ")\n",
    "mistral_parsed_recipe.model_dump()"
   ]
  }
 ],
 "metadata": {
  "kernelspec": {
   "display_name": ".venv",
   "language": "python",
   "name": "python3"
  },
  "language_info": {
   "codemirror_mode": {
    "name": "ipython",
    "version": 3
   },
   "file_extension": ".py",
   "mimetype": "text/x-python",
   "name": "python",
   "nbconvert_exporter": "python",
   "pygments_lexer": "ipython3",
   "version": "3.11.7"
  }
 },
 "nbformat": 4,
 "nbformat_minor": 2
}
