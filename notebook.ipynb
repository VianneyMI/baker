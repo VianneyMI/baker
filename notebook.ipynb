{
 "cells": [
  {
   "cell_type": "code",
   "execution_count": 20,
   "metadata": {},
   "outputs": [],
   "source": [
    "import os\n",
    "\n",
    "import pandas as pd\n",
    "from langchain.output_parsers import PydanticOutputParser\n",
    "from langchain_mistralai.chat_models import ChatMistralAI\n",
    "\n",
    "from dotenv import load_dotenv\n",
    "from baker.parser import RecipeParser, MESSAGE, CHAT_PROMPT_TEMPLATE\n",
    "from baker.schemas import Recipe"
   ]
  },
  {
   "cell_type": "code",
   "execution_count": 21,
   "metadata": {},
   "outputs": [
    {
     "data": {
      "text/plain": [
       "HumanMessagePromptTemplate(prompt=PromptTemplate(input_variables=['format_instructions', 'ingredients', 'steps'], template='\\nWhat are the ingredients and their associated quantities as well as the steps to make the recipe described by the following {ingredients} and {steps} provided as raw text ?\\n\\nIn particular, please provide the following information:\\n- The name of the recipe\\n- The serving size\\n- The ingredients and their associated quantities\\n- The steps to make the recipe\\n- Any additional comments\\nas described in {format_instructions}\\n\\n'))"
      ]
     },
     "execution_count": 21,
     "metadata": {},
     "output_type": "execute_result"
    }
   ],
   "source": [
    "MESSAGE"
   ]
  },
  {
   "cell_type": "code",
   "execution_count": 26,
   "metadata": {},
   "outputs": [
    {
     "data": {
      "text/plain": [
       "ChatPromptValue(messages=[HumanMessage(content=\"\\nWhat are the ingredients and their associated quantities as well as the steps to make the recipe described by the following carrot and boil the carrot provided as raw text ?\\n\\nIn particular, please provide the following information:\\n- The name of the recipe\\n- The serving size\\n- The ingredients and their associated quantities\\n- The steps to make the recipe\\n- Any additional comments\\nas described in <class 'baker.schemas.Recipe'>\\n\\n\")])"
      ]
     },
     "execution_count": 26,
     "metadata": {},
     "output_type": "execute_result"
    }
   ],
   "source": [
    "CHAT_PROMPT_TEMPLATE.format_prompt(ingredients=\"carrot\", steps=\"boil the carrot\", format_instructions=Recipe)"
   ]
  },
  {
   "cell_type": "code",
   "execution_count": 2,
   "metadata": {},
   "outputs": [
    {
     "data": {
      "text/html": [
       "<div>\n",
       "<style scoped>\n",
       "    .dataframe tbody tr th:only-of-type {\n",
       "        vertical-align: middle;\n",
       "    }\n",
       "\n",
       "    .dataframe tbody tr th {\n",
       "        vertical-align: top;\n",
       "    }\n",
       "\n",
       "    .dataframe thead th {\n",
       "        text-align: right;\n",
       "    }\n",
       "</style>\n",
       "<table border=\"1\" class=\"dataframe\">\n",
       "  <thead>\n",
       "    <tr style=\"text-align: right;\">\n",
       "      <th></th>\n",
       "      <th>title</th>\n",
       "      <th>date</th>\n",
       "      <th>tags</th>\n",
       "      <th>introduction</th>\n",
       "      <th>ingredients</th>\n",
       "      <th>direction</th>\n",
       "      <th>output</th>\n",
       "      <th>ingredients_count</th>\n",
       "      <th>direction_count</th>\n",
       "    </tr>\n",
       "  </thead>\n",
       "  <tbody>\n",
       "    <tr>\n",
       "      <th>0</th>\n",
       "      <td>Creamy Mashed Potatoes</td>\n",
       "      <td>2021-03-12</td>\n",
       "      <td>[potato, side, cheesefare]</td>\n",
       "      <td>![Creamy Mashed Potatoes](/pix/creamy-mashed-p...</td>\n",
       "      <td>The quantities here are for about four adult p...</td>\n",
       "      <td>1. Peel and cut the potatoes into medium sized...</td>\n",
       "      <td>{'title': 'Creamy Mashed Potatoes', 'ingredien...</td>\n",
       "      <td>93</td>\n",
       "      <td>184</td>\n",
       "    </tr>\n",
       "    <tr>\n",
       "      <th>1</th>\n",
       "      <td>Red Sauce (Ragu all'Italiana)</td>\n",
       "      <td>2021-03-16</td>\n",
       "      <td>[italian, sauce]</td>\n",
       "      <td>My great-grandma's red sauce. All purpose: goo...</td>\n",
       "      <td>- 1/3 lb salt pork - 2 lb chuck roast - 3 Clov...</td>\n",
       "      <td>1. Mince the garlic, peel the carrot, peel and...</td>\n",
       "      <td>{'title': 'Red Sauce (Ragu all'Italiana)', 'in...</td>\n",
       "      <td>61</td>\n",
       "      <td>117</td>\n",
       "    </tr>\n",
       "    <tr>\n",
       "      <th>2</th>\n",
       "      <td>Turmeric Flatbread</td>\n",
       "      <td>2022-08-09</td>\n",
       "      <td>[bread, turkish]</td>\n",
       "      <td>A great companion to Turkish Red Lentil Soup. ...</td>\n",
       "      <td>- 1 cup Wheat Flour (white or whole) - 1/2 Tbs...</td>\n",
       "      <td>1. Combine flour, turmeric, salt and baking po...</td>\n",
       "      <td>{'title': 'Turmeric Flatbread', 'ingredients':...</td>\n",
       "      <td>30</td>\n",
       "      <td>90</td>\n",
       "    </tr>\n",
       "    <tr>\n",
       "      <th>3</th>\n",
       "      <td>Zurich-Style Meat Saute</td>\n",
       "      <td>2023-01-06</td>\n",
       "      <td>[beef, cream, swiss, quick]</td>\n",
       "      <td>Originally called \"Züri Gschnätzlets\" (Zurich ...</td>\n",
       "      <td>- 600g\\tBeef, finely sliced - 250g\\tMushrooms,...</td>\n",
       "      <td>1. Fry the meat in butter at high heat until i...</td>\n",
       "      <td>{'title': 'Zurich-Style Meat Saute', 'ingredie...</td>\n",
       "      <td>37</td>\n",
       "      <td>126</td>\n",
       "    </tr>\n",
       "    <tr>\n",
       "      <th>4</th>\n",
       "      <td>Tuscan Style Pork Roast</td>\n",
       "      <td>2021-03-10</td>\n",
       "      <td>[italian, pork, roast]</td>\n",
       "      <td>![tuscan-style-pork-roast](/pix/tuscan-style-p...</td>\n",
       "      <td>- 1 pork Roast - 2-3 Tbsp fresh rosemary - 8 c...</td>\n",
       "      <td>1.\\tPreheat oven to 275°F (135°C) 2.\\tButterfl...</td>\n",
       "      <td>{'title': 'Tuscan Style Pork Roast', 'ingredie...</td>\n",
       "      <td>38</td>\n",
       "      <td>473</td>\n",
       "    </tr>\n",
       "  </tbody>\n",
       "</table>\n",
       "</div>"
      ],
      "text/plain": [
       "                           title       date                         tags  \\\n",
       "0         Creamy Mashed Potatoes 2021-03-12   [potato, side, cheesefare]   \n",
       "1  Red Sauce (Ragu all'Italiana) 2021-03-16             [italian, sauce]   \n",
       "2             Turmeric Flatbread 2022-08-09             [bread, turkish]   \n",
       "3        Zurich-Style Meat Saute 2023-01-06  [beef, cream, swiss, quick]   \n",
       "4        Tuscan Style Pork Roast 2021-03-10       [italian, pork, roast]   \n",
       "\n",
       "                                        introduction  \\\n",
       "0  ![Creamy Mashed Potatoes](/pix/creamy-mashed-p...   \n",
       "1  My great-grandma's red sauce. All purpose: goo...   \n",
       "2  A great companion to Turkish Red Lentil Soup. ...   \n",
       "3  Originally called \"Züri Gschnätzlets\" (Zurich ...   \n",
       "4  ![tuscan-style-pork-roast](/pix/tuscan-style-p...   \n",
       "\n",
       "                                         ingredients  \\\n",
       "0  The quantities here are for about four adult p...   \n",
       "1  - 1/3 lb salt pork - 2 lb chuck roast - 3 Clov...   \n",
       "2  - 1 cup Wheat Flour (white or whole) - 1/2 Tbs...   \n",
       "3  - 600g\\tBeef, finely sliced - 250g\\tMushrooms,...   \n",
       "4  - 1 pork Roast - 2-3 Tbsp fresh rosemary - 8 c...   \n",
       "\n",
       "                                           direction  \\\n",
       "0  1. Peel and cut the potatoes into medium sized...   \n",
       "1  1. Mince the garlic, peel the carrot, peel and...   \n",
       "2  1. Combine flour, turmeric, salt and baking po...   \n",
       "3  1. Fry the meat in butter at high heat until i...   \n",
       "4  1.\\tPreheat oven to 275°F (135°C) 2.\\tButterfl...   \n",
       "\n",
       "                                              output  ingredients_count  \\\n",
       "0  {'title': 'Creamy Mashed Potatoes', 'ingredien...                 93   \n",
       "1  {'title': 'Red Sauce (Ragu all'Italiana)', 'in...                 61   \n",
       "2  {'title': 'Turmeric Flatbread', 'ingredients':...                 30   \n",
       "3  {'title': 'Zurich-Style Meat Saute', 'ingredie...                 37   \n",
       "4  {'title': 'Tuscan Style Pork Roast', 'ingredie...                 38   \n",
       "\n",
       "   direction_count  \n",
       "0              184  \n",
       "1              117  \n",
       "2               90  \n",
       "3              126  \n",
       "4              473  "
      ]
     },
     "execution_count": 2,
     "metadata": {},
     "output_type": "execute_result"
    }
   ],
   "source": [
    "df = pd.read_json(\"data/recipes_v1_with_token_counts.json\")\n",
    "df.head()"
   ]
  },
  {
   "cell_type": "code",
   "execution_count": 3,
   "metadata": {},
   "outputs": [],
   "source": [
    "MISTRAL_API_KEY = os.getenv(\"MISTRAL_API_KEY\")"
   ]
  },
  {
   "cell_type": "code",
   "execution_count": 17,
   "metadata": {},
   "outputs": [],
   "source": [
    "llm = ChatMistralAI(api_key=MISTRAL_API_KEY, model_name=\"open-mixtral-8x7b\")\n",
    "parser = PydanticOutputParser(pydantic_object=Recipe)"
   ]
  },
  {
   "cell_type": "code",
   "execution_count": 18,
   "metadata": {},
   "outputs": [],
   "source": [
    "recipe_parser = RecipeParser(llm=llm, parser=parser)"
   ]
  },
  {
   "cell_type": "code",
   "execution_count": null,
   "metadata": {},
   "outputs": [],
   "source": [
    "df[\"ingredients\"][0]"
   ]
  },
  {
   "cell_type": "code",
   "execution_count": 19,
   "metadata": {},
   "outputs": [
    {
     "data": {
      "text/plain": [
       "Recipe(name='Bacon and Cheese Mashed Potatoes', serving_size=4, ingredients=[Ingredient(name='potatoes', quantity=1000.0, unit='g'), Ingredient(name='milk', quantity=200.0, unit='ml'), Ingredient(name='mayonnaise', quantity=200.0, unit='ml'), Ingredient(name='cheese', quantity=100.0, unit='g'), Ingredient(name='garlic powder', quantity=None, unit=None), Ingredient(name='bacon', quantity=12.0, unit='strips'), Ingredient(name='butter', quantity=None, unit=None), Ingredient(name='green onions', quantity=None, unit=None), Ingredient(name='black pepper', quantity=None, unit=None), Ingredient(name='salt', quantity=None, unit=None)], steps=['Peel and cut the potatoes into medium sized pieces.', 'Put the potatoes in a pot with some water so that it covers the potatoes and boil them for about 20-30 minutes, or until the potatoes are soft.', 'About ten minutes before removing the potatoes from the boiling water, cut the bacon into little pieces and fry it.', 'Warm up the milk and mayonnaise.', 'Shred the cheese.', 'When the potatoes are done, remove all water from the pot, add the warm milk and mayonnaise mix, add some butter, and mash with a potato masher or a blender.', 'Add some salt, black pepper and garlic powder to taste and continue mashing the mix.', 'Once the mix is somewhat homogeneous and the potatoes are properly mashed, add the shredded cheese and fried bacon and mix a little.', 'Serve and top with chopped green onions.'], comments=['You can play with the proportions depending on how creamy or dry you want the mashed potatoes to be.'])"
      ]
     },
     "execution_count": 19,
     "metadata": {},
     "output_type": "execute_result"
    }
   ],
   "source": [
    "output = await recipe_parser.run(ingredients=df[\"ingredients\"][0], steps=df[\"direction\"][0])\n",
    "output"
   ]
  },
  {
   "cell_type": "code",
   "execution_count": 28,
   "metadata": {},
   "outputs": [
    {
     "data": {
      "text/plain": [
       "{'name': 'Bacon and Cheese Mashed Potatoes',\n",
       " 'serving_size': 4,\n",
       " 'ingredients': [{'name': 'potatoes', 'quantity': 1000.0, 'unit': 'g'},\n",
       "  {'name': 'milk', 'quantity': 200.0, 'unit': 'ml'},\n",
       "  {'name': 'mayonnaise', 'quantity': 200.0, 'unit': 'ml'},\n",
       "  {'name': 'cheese', 'quantity': 100.0, 'unit': 'g'},\n",
       "  {'name': 'garlic powder', 'quantity': None, 'unit': None},\n",
       "  {'name': 'bacon', 'quantity': 12.0, 'unit': 'strips'},\n",
       "  {'name': 'butter', 'quantity': None, 'unit': None},\n",
       "  {'name': 'green onions', 'quantity': None, 'unit': None},\n",
       "  {'name': 'black pepper', 'quantity': None, 'unit': None},\n",
       "  {'name': 'salt', 'quantity': None, 'unit': None}],\n",
       " 'steps': ['Peel and cut the potatoes into medium sized pieces.',\n",
       "  'Put the potatoes in a pot with some water so that it covers the potatoes and boil them for about 20-30 minutes, or until the potatoes are soft.',\n",
       "  'About ten minutes before removing the potatoes from the boiling water, cut the bacon into little pieces and fry it.',\n",
       "  'Warm up the milk and mayonnaise.',\n",
       "  'Shred the cheese.',\n",
       "  'When the potatoes are done, remove all water from the pot, add the warm milk and mayonnaise mix, add some butter, and mash with a potato masher or a blender.',\n",
       "  'Add some salt, black pepper and garlic powder to taste and continue mashing the mix.',\n",
       "  'Once the mix is somewhat homogeneous and the potatoes are properly mashed, add the shredded cheese and fried bacon and mix a little.',\n",
       "  'Serve and top with chopped green onions.'],\n",
       " 'comments': ['You can play with the proportions depending on how creamy or dry you want the mashed potatoes to be.']}"
      ]
     },
     "execution_count": 28,
     "metadata": {},
     "output_type": "execute_result"
    }
   ],
   "source": [
    "output.dict()"
   ]
  },
  {
   "cell_type": "code",
   "execution_count": null,
   "metadata": {},
   "outputs": [],
   "source": [
    "df.describe()"
   ]
  },
  {
   "cell_type": "code",
   "execution_count": null,
   "metadata": {},
   "outputs": [],
   "source": [
    "df[\"ingredients_count\"].sum(), df[\"direction_count\"].sum()"
   ]
  },
  {
   "cell_type": "code",
   "execution_count": null,
   "metadata": {},
   "outputs": [],
   "source": [
    "df[\"ingredients_count\"].sum() + df[\"direction_count\"].sum()"
   ]
  },
  {
   "cell_type": "code",
   "execution_count": null,
   "metadata": {},
   "outputs": [],
   "source": [
    "df.to_json(\"data/recipes_v1_with_token_counts.json\")"
   ]
  }
 ],
 "metadata": {
  "kernelspec": {
   "display_name": ".venv",
   "language": "python",
   "name": "python3"
  },
  "language_info": {
   "codemirror_mode": {
    "name": "ipython",
    "version": 3
   },
   "file_extension": ".py",
   "mimetype": "text/x-python",
   "name": "python",
   "nbconvert_exporter": "python",
   "pygments_lexer": "ipython3",
   "version": "3.11.7"
  }
 },
 "nbformat": 4,
 "nbformat_minor": 2
}
